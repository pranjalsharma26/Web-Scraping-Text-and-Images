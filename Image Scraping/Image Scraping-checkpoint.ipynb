{
 "cells": [
  {
   "cell_type": "code",
   "execution_count": 1,
   "id": "c7f55055",
   "metadata": {},
   "outputs": [],
   "source": [
    "from bs4 import *\n",
    "import requests as rs\n",
    "import os"
   ]
  },
  {
   "cell_type": "code",
   "execution_count": 2,
   "id": "fe67a8cf",
   "metadata": {},
   "outputs": [],
   "source": [
    "# send requests to get the data\n",
    "data = rs.get(\"https://unsplash.com/s/photos/wheat\")"
   ]
  },
  {
   "cell_type": "code",
   "execution_count": 3,
   "id": "5588277d",
   "metadata": {},
   "outputs": [],
   "source": [
    "# get data into html format for extraction of images\n",
    "soup = BeautifulSoup(data.text, \"html.parser\")"
   ]
  },
  {
   "cell_type": "code",
   "execution_count": 4,
   "id": "c2e7bfd3",
   "metadata": {},
   "outputs": [],
   "source": [
    "links = []\n",
    "# writing regular expression for selecting all the lnks which are similar to below link\n",
    "a = soup.select('img[src^=\"https://images.unsplash.com/photo\"]')\n",
    "\n",
    "for img in a:\n",
    "    links.append(img['src'])\n",
    "    \n",
    "#NOTE: For higher resolution images, code will differ    "
   ]
  },
  {
   "cell_type": "code",
   "execution_count": 5,
   "id": "352eb631",
   "metadata": {},
   "outputs": [
    {
     "ename": "SyntaxError",
     "evalue": "invalid syntax (Temp/ipykernel_10312/1525552373.py, line 6)",
     "output_type": "error",
     "traceback": [
      "\u001b[1;36m  File \u001b[1;32m\"C:\\Users\\Pranjal\\AppData\\Local\\Temp/ipykernel_10312/1525552373.py\"\u001b[1;36m, line \u001b[1;32m6\u001b[0m\n\u001b[1;33m    with open(\"wheat_image_data/\" + str(index+1) + '.jpg', 'wb+')\u001b[0m\n\u001b[1;37m                                                                   ^\u001b[0m\n\u001b[1;31mSyntaxError\u001b[0m\u001b[1;31m:\u001b[0m invalid syntax\n"
     ]
    }
   ],
   "source": [
    "os.mkdir(\"wheat_image_data\")\n",
    "i=1\n",
    "for index, img_link in enumerate(links):\n",
    "    if i<=10:\n",
    "        img_data = rs.get(img_link).content\n",
    "        with open(\"wheat_image_data/\" + str(index+1) + '.jpg', 'wb+')  \n",
    "        as f:\n",
    "            f.write(img_data)\n",
    "        i+=1\n",
    "    else:\n",
    "        f.close()\n",
    "        break\n",
    "        "
   ]
  },
  {
   "cell_type": "code",
   "execution_count": null,
   "id": "376f87c2",
   "metadata": {},
   "outputs": [],
   "source": []
  }
 ],
 "metadata": {
  "kernelspec": {
   "display_name": "Python 3 (ipykernel)",
   "language": "python",
   "name": "python3"
  },
  "language_info": {
   "codemirror_mode": {
    "name": "ipython",
    "version": 3
   },
   "file_extension": ".py",
   "mimetype": "text/x-python",
   "name": "python",
   "nbconvert_exporter": "python",
   "pygments_lexer": "ipython3",
   "version": "3.7.3"
  }
 },
 "nbformat": 4,
 "nbformat_minor": 5
}
